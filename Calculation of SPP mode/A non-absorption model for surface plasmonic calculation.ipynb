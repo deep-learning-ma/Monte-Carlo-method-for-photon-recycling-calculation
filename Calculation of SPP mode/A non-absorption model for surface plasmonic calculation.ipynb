{
 "cells": [
  {
   "cell_type": "code",
   "execution_count": 1,
   "metadata": {},
   "outputs": [],
   "source": [
    "import numpy as np\n",
    "import pandas as pd\n",
    "import os\n",
    "import matplotlib.pyplot as plt\n",
    "import oledpy.dipole_emission as diem\n",
    "from oledpy.dipole_emission import ThinFilmArchitecture\n",
    "from numpy.lib.scimath import sqrt as csqrt\n",
    "import warnings\n",
    "warnings.filterwarnings('ignore')\n",
    "df_nk=pd.read_csv(os.path.join('Reference Data','nk_library.csv'))"
   ]
  },
  {
   "cell_type": "code",
   "execution_count": 2,
   "metadata": {},
   "outputs": [
    {
     "name": "stdout",
     "output_type": "stream",
     "text": [
      "Active layer is: MAPbI3. \n",
      " To change, call arch.set_active_layer(active_layer) Indexing starts at 0.\n",
      "RZ not provided. Flat RZ will be assumed\n",
      "No PL spectrum provided. Flat (white) emission will be assumed\n",
      "Provided imaginary active layer index. Discarding imaginary part.\n"
     ]
    }
   ],
   "source": [
    "layer_names = ['SiO2','ITO','polyTPD','MAPbI3',\n",
    "               'TPBi','Al','Air']\n",
    "d = [0,150,25,10,40,100,0]\n",
    "doping = [1,1,1,1,1,1,1]\n",
    "active_layer = 3\n",
    "# Define wavelengths of interest\n",
    "arch = ThinFilmArchitecture(\n",
    "    d=d,layer_names=layer_names,doping=doping,active_layer=active_layer,\n",
    "    dipole_positions=[0.94],u_step=0.00025,u_stop=2,\n",
    "    tau=1e-6,PLQY=0.85,\n",
    "    vac_wavelengths=np.arange(750,790,10))#\n",
    "arch.load_nk(df_nk=df_nk)\n",
    "arch.init_pds_variables()"
   ]
  },
  {
   "cell_type": "code",
   "execution_count": 3,
   "metadata": {},
   "outputs": [
    {
     "name": "stdout",
     "output_type": "stream",
     "text": [
      "Varied layer is: MAPbI3\n"
     ]
    },
    {
     "data": {
      "application/vnd.jupyter.widget-view+json": {
       "model_id": "a1db26719f724c8daaa9d6eeacf0eba6",
       "version_major": 2,
       "version_minor": 0
      },
      "text/plain": [
       "HBox(children=(HTML(value=''), FloatProgress(value=0.0, max=50.0), HTML(value='')))"
      ]
     },
     "metadata": {},
     "output_type": "display_data"
    },
    {
     "data": {
      "application/vnd.jupyter.widget-view+json": {
       "model_id": "",
       "version_major": 2,
       "version_minor": 0
      },
      "text/plain": [
       "HBox(children=(HTML(value=''), FloatProgress(value=0.0, max=4.0), HTML(value='')))"
      ]
     },
     "metadata": {},
     "output_type": "display_data"
    },
    {
     "name": "stdout",
     "output_type": "stream",
     "text": [
      "\n"
     ]
    }
   ],
   "source": [
    "arch.show_wavelength_progress_bar=True\n",
    "layer_idx=3\n",
    "d_EML_list=np.arange(0,3000,60)\n",
    "loop_data = arch.loop_over_single_layer_prop(\n",
    "     layer_idx=3,layer_prop_list=d_EML_list,layer_prop='d')"
   ]
  },
  {
   "cell_type": "code",
   "execution_count": 4,
   "metadata": {},
   "outputs": [
    {
     "data": {
      "image/png": "[encoded data removed]",
      "text/plain": [
       "<Figure size 432x288 with 1 Axes>"
      ]
     },
     "metadata": {},
     "output_type": "display_data"
    }
   ],
   "source": [
    "spectrally_integrated_modes = arch.analyze_modes_loop(d_EML_list,loop_data)\n",
    "with plt.style.context('ggplot'):\n",
    "    plt.stackplot(d_EML_list,spectrally_integrated_modes.T,\n",
    "                 labels=spectrally_integrated_modes.columns,alpha=1)\n",
    "    plt.legend()"
   ]
  },
  {
   "cell_type": "code",
   "execution_count": 5,
   "metadata": {},
   "outputs": [],
   "source": [
    "with open('mode distribution.txt','w') as f: \n",
    "    pd.set_option('display.max_rows', None)\n",
    "    pd.set_option('display.max_columns', None)  #To prevent omission of data\n",
    "    print(spectrally_integrated_modes, file=f)\n",
    "\n",
    "    # print (d_EML_list) #debugging"
   ]
  },
  {
   "cell_type": "code",
   "execution_count": 6,
   "metadata": {},
   "outputs": [],
   "source": [
    "outcoupling_array=['']*len(d_EML_list)\n",
    "eta_out = np.zeros(len(d_EML_list))\n",
    "PLQYeff = np.zeros(len(d_EML_list))\n",
    "U = np.zeros(len(d_EML_list))\n",
    "F = np.zeros(len(d_EML_list))\n",
    "U_over_F = np.zeros(len(d_EML_list))\n",
    "for d_idx,d_EML in enumerate(d_EML_list):\n",
    "    K_total_array = loop_data['K_total_loop'][d_idx]\n",
    "    K_out_array = loop_data['K_out_loop'][d_idx]\n",
    "    outcoupling_array[d_idx]= arch.calc_outcoupled_fraction_array(\n",
    "        K_total_array,K_out_array)\n",
    "    arch.outcoupling_array = outcoupling_array[d_idx]\n",
    "    lam_avg_eta_out,space_avg_eta_out = arch.spatially_average_outcoupling(return_values=True)\n",
    "    eta_out[d_idx] = lam_avg_eta_out\n",
    "    arch.K_total_array=K_total_array\n",
    "    arch.K_out_array=K_out_array\n",
    "    arch.purcell_factor(tau=1e-6,PLQY=0.85)\n",
    "    PLQYeff[d_idx] = arch.PLQY_effective_avg\n",
    "    U[d_idx]=arch.U_avg\n",
    "    F[d_idx]=arch.F_avg"
   ]
  },
  {
   "cell_type": "code",
   "execution_count": 7,
   "metadata": {},
   "outputs": [
    {
     "name": "stdout",
     "output_type": "stream",
     "text": [
      "         air       sub        wg       spp\n",
      "0   0.170520  0.185277  0.534077  0.110126\n",
      "1   0.192161  0.175583  0.556757  0.075499\n",
      "2   0.134466  0.162640  0.630077  0.072818\n",
      "3   0.144576  0.165184  0.618953  0.071286\n",
      "4   0.203265  0.159879  0.575169  0.061686\n",
      "5   0.152682  0.194828  0.593487  0.059004\n",
      "6   0.152784  0.170071  0.620922  0.056223\n",
      "7   0.209492  0.175934  0.565259  0.049314\n",
      "8   0.165669  0.192332  0.595158  0.046842\n",
      "9   0.155778  0.192221  0.607610  0.044390\n",
      "10  0.203492  0.170019  0.586738  0.039751\n",
      "11  0.171049  0.201211  0.589736  0.038003\n",
      "12  0.153982  0.196135  0.613879  0.036004\n",
      "13  0.189240  0.176785  0.600978  0.032997\n",
      "14  0.167211  0.189511  0.611541  0.031737\n",
      "15  0.148008  0.204130  0.617614  0.030249\n",
      "16  0.169203  0.181225  0.621298  0.028274\n",
      "17  0.155250  0.179557  0.637749  0.027444\n",
      "18  0.136803  0.196930  0.640105  0.026161\n",
      "19  0.145755  0.185792  0.643419  0.025034\n",
      "20  0.135189  0.174660  0.665888  0.024263\n",
      "21  0.121612  0.178572  0.676323  0.023492\n",
      "22  0.119043  0.182998  0.675385  0.022574\n",
      "23  0.111602  0.168980  0.697221  0.022197\n",
      "24  0.101255  0.166656  0.710512  0.021577\n",
      "25  0.093340  0.164567  0.721012  0.021082\n",
      "26  0.085476  0.162427  0.731454  0.020643\n",
      "27  0.078654  0.153041  0.747876  0.020429\n",
      "28  0.067896  0.148938  0.763348  0.019819\n",
      "29  0.060788  0.141060  0.778568  0.019583\n",
      "30  0.055075  0.138639  0.786945  0.019341\n",
      "31  0.046528  0.130362  0.804142  0.018968\n",
      "32  0.040255  0.122556  0.818554  0.018635\n",
      "33  0.036227  0.114338  0.831050  0.018385\n",
      "34  0.031524  0.111608  0.838630  0.018238\n",
      "35  0.027943  0.104065  0.850149  0.017843\n",
      "36  0.026979  0.096525  0.858781  0.017715\n",
      "37  0.025421  0.087653  0.869892  0.017034\n",
      "38  0.026417  0.085415  0.871207  0.016961\n",
      "39  0.029075  0.080117  0.874291  0.016517\n",
      "40  0.031407  0.073049  0.879549  0.015995\n",
      "41  0.037099  0.069443  0.877442  0.016016\n",
      "42  0.045683  0.070732  0.867490  0.016096\n",
      "43  0.049953  0.067621  0.867218  0.015207\n",
      "44  0.058498  0.064271  0.862376  0.014854\n",
      "45  0.070218  0.063172  0.851934  0.014676\n",
      "46  0.077970  0.066493  0.841295  0.014242\n",
      "47  0.085915  0.067732  0.832930  0.013423\n",
      "48  0.101804  0.069613  0.815001  0.013583\n",
      "49  0.109269  0.070743  0.806982  0.013005\n"
     ]
    }
   ],
   "source": [
    "print(spectrally_integrated_modes)"
   ]
  },
  {
   "cell_type": "code",
   "execution_count": null,
   "metadata": {},
   "outputs": [],
   "source": []
  }
 ],
 "metadata": {
  "kernelspec": {
   "display_name": "Python 3",
   "language": "python",
   "name": "python3"
  },
  "language_info": {
   "codemirror_mode": {
    "name": "ipython",
    "version": 3
   },
   "file_extension": ".py",
   "mimetype": "text/x-python",
   "name": "python",
   "nbconvert_exporter": "python",
   "pygments_lexer": "ipython3",
   "version": "3.7.9"
  }
 },
 "nbformat": 4,
 "nbformat_minor": 4
}

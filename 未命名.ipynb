{
 "cells": [
  {
   "cell_type": "code",
   "execution_count": 56,
   "metadata": {},
   "outputs": [],
   "source": [
    "import numpy as np\n",
    "import pandas as pd\n",
    "import os\n",
    "import matplotlib.pyplot as plt\n",
    "import oledpy.dipole_emission as diem\n",
    "from oledpy.dipole_emission import ThinFilmArchitecture\n",
    "from numpy.lib.scimath import sqrt as csqrt\n",
    "import warnings\n",
    "warnings.filterwarnings('ignore')\n",
    "df_nk=pd.read_csv(os.path.join('Reference Data','nk_library.csv'))"
   ]
  },
  {
   "cell_type": "markdown",
   "metadata": {},
   "source": [
    "When I changed the imaginary part k of MAPbI3 refractive index from 0 to 1, no change was found in outcoupling efficiency. \n",
    "\n",
    "k represents the absorbing ability of materials. First, we assume the dipole is near the Al electrode, which means light will across a long distance in perovskite layer before reaching the air. Further more, in our model, perovskite layer (also the EML) is very thick (about 3000nm), by which most of light will be absorbed with a high k (k=1), and the outcoupling efficiency is supposed to be extremely low. Sadly, when I increase k of MAPbI3 from 0 to 1, the simulation still shows a high outcoupling efficiency. Whether the k is, we got the same data. \n",
    "\n",
    "\n",
    "\n",
    "\n"
   ]
  },
  {
   "cell_type": "code",
   "execution_count": 57,
   "metadata": {},
   "outputs": [
    {
     "data": {
      "text/html": [
       "<div>\n",
       "<style scoped>\n",
       "    .dataframe tbody tr th:only-of-type {\n",
       "        vertical-align: middle;\n",
       "    }\n",
       "\n",
       "    .dataframe tbody tr th {\n",
       "        vertical-align: top;\n",
       "    }\n",
       "\n",
       "    .dataframe thead th {\n",
       "        text-align: right;\n",
       "    }\n",
       "</style>\n",
       "<table border=\"1\" class=\"dataframe\">\n",
       "  <thead>\n",
       "    <tr style=\"text-align: right;\">\n",
       "      <th></th>\n",
       "      <th>Wavelength (nm)</th>\n",
       "      <th>MAPbI3_n</th>\n",
       "      <th>MAPbI3_k</th>\n",
       "    </tr>\n",
       "  </thead>\n",
       "  <tbody>\n",
       "    <tr>\n",
       "      <th>0</th>\n",
       "      <td>300.0</td>\n",
       "      <td>2.2</td>\n",
       "      <td>1.0</td>\n",
       "    </tr>\n",
       "    <tr>\n",
       "      <th>1</th>\n",
       "      <td>301.0</td>\n",
       "      <td>2.2</td>\n",
       "      <td>1.0</td>\n",
       "    </tr>\n",
       "    <tr>\n",
       "      <th>2</th>\n",
       "      <td>302.0</td>\n",
       "      <td>2.2</td>\n",
       "      <td>1.0</td>\n",
       "    </tr>\n",
       "    <tr>\n",
       "      <th>3</th>\n",
       "      <td>303.0</td>\n",
       "      <td>2.2</td>\n",
       "      <td>1.0</td>\n",
       "    </tr>\n",
       "    <tr>\n",
       "      <th>4</th>\n",
       "      <td>304.0</td>\n",
       "      <td>2.2</td>\n",
       "      <td>1.0</td>\n",
       "    </tr>\n",
       "  </tbody>\n",
       "</table>\n",
       "</div>"
      ],
      "text/plain": [
       "   Wavelength (nm)  MAPbI3_n  MAPbI3_k\n",
       "0            300.0       2.2       1.0\n",
       "1            301.0       2.2       1.0\n",
       "2            302.0       2.2       1.0\n",
       "3            303.0       2.2       1.0\n",
       "4            304.0       2.2       1.0"
      ]
     },
     "execution_count": 57,
     "metadata": {},
     "output_type": "execute_result"
    }
   ],
   "source": [
    "df_nk[['Wavelength (nm)','MAPbI3_n','MAPbI3_k']].head() #debugging"
   ]
  },
  {
   "cell_type": "code",
   "execution_count": 58,
   "metadata": {},
   "outputs": [
    {
     "data": {
      "text/html": [
       "<div>\n",
       "<style scoped>\n",
       "    .dataframe tbody tr th:only-of-type {\n",
       "        vertical-align: middle;\n",
       "    }\n",
       "\n",
       "    .dataframe tbody tr th {\n",
       "        vertical-align: top;\n",
       "    }\n",
       "\n",
       "    .dataframe thead th {\n",
       "        text-align: right;\n",
       "    }\n",
       "</style>\n",
       "<table border=\"1\" class=\"dataframe\">\n",
       "  <thead>\n",
       "    <tr style=\"text-align: right;\">\n",
       "      <th></th>\n",
       "      <th>Wavelength (nm)</th>\n",
       "      <th>polyTPD_n</th>\n",
       "      <th>polyTPD_k</th>\n",
       "    </tr>\n",
       "  </thead>\n",
       "  <tbody>\n",
       "    <tr>\n",
       "      <th>0</th>\n",
       "      <td>300.0</td>\n",
       "      <td>1.8</td>\n",
       "      <td>0.0</td>\n",
       "    </tr>\n",
       "    <tr>\n",
       "      <th>1</th>\n",
       "      <td>301.0</td>\n",
       "      <td>1.8</td>\n",
       "      <td>0.0</td>\n",
       "    </tr>\n",
       "    <tr>\n",
       "      <th>2</th>\n",
       "      <td>302.0</td>\n",
       "      <td>1.8</td>\n",
       "      <td>0.0</td>\n",
       "    </tr>\n",
       "    <tr>\n",
       "      <th>3</th>\n",
       "      <td>303.0</td>\n",
       "      <td>1.8</td>\n",
       "      <td>0.0</td>\n",
       "    </tr>\n",
       "    <tr>\n",
       "      <th>4</th>\n",
       "      <td>304.0</td>\n",
       "      <td>1.8</td>\n",
       "      <td>0.0</td>\n",
       "    </tr>\n",
       "  </tbody>\n",
       "</table>\n",
       "</div>"
      ],
      "text/plain": [
       "   Wavelength (nm)  polyTPD_n  polyTPD_k\n",
       "0            300.0        1.8        0.0\n",
       "1            301.0        1.8        0.0\n",
       "2            302.0        1.8        0.0\n",
       "3            303.0        1.8        0.0\n",
       "4            304.0        1.8        0.0"
      ]
     },
     "execution_count": 58,
     "metadata": {},
     "output_type": "execute_result"
    }
   ],
   "source": [
    "df_nk[['Wavelength (nm)','polyTPD_n','polyTPD_k']].head() #debugging"
   ]
  },
  {
   "cell_type": "code",
   "execution_count": 59,
   "metadata": {},
   "outputs": [
    {
     "name": "stdout",
     "output_type": "stream",
     "text": [
      "Active layer is: MAPbI3. \n",
      " To change, call arch.set_active_layer(active_layer) Indexing starts at 0.\n",
      "RZ not provided. Flat RZ will be assumed\n",
      "No PL spectrum provided. Flat (white) emission will be assumed\n",
      "Provided imaginary active layer index. Discarding imaginary part.\n"
     ]
    }
   ],
   "source": [
    "layer_names = ['SiO2','ITO','polyTPD','MAPbI3',\n",
    "               'TPBi','Al','Air']\n",
    "d = [0,150,25,10,40,100,0]\n",
    "doping = [1,1,1,1,1,1,1]\n",
    "active_layer = 3\n",
    "# Define wavelengths of interest\n",
    "arch = ThinFilmArchitecture(\n",
    "    d=d,layer_names=layer_names,doping=doping,active_layer=active_layer,\n",
    "    dipole_positions=[0.97],u_step=0.00025,u_stop=2,\n",
    "    tau=1e-6,PLQY=0.85,\n",
    "    vac_wavelengths=np.arange(750,790,10))#\n",
    "arch.load_nk(df_nk=df_nk)\n",
    "arch.init_pds_variables()"
   ]
  },
  {
   "cell_type": "code",
   "execution_count": 60,
   "metadata": {
    "scrolled": true
   },
   "outputs": [
    {
     "name": "stdout",
     "output_type": "stream",
     "text": [
      "Varied layer is: MAPbI3\n"
     ]
    },
    {
     "data": {
      "application/vnd.jupyter.widget-view+json": {
       "model_id": "d34a3afed1f2431d958eb532e2677458",
       "version_major": 2,
       "version_minor": 0
      },
      "text/plain": [
       "HBox(children=(HTML(value=''), FloatProgress(value=0.0, max=50.0), HTML(value='')))"
      ]
     },
     "metadata": {},
     "output_type": "display_data"
    },
    {
     "data": {
      "application/vnd.jupyter.widget-view+json": {
       "model_id": "",
       "version_major": 2,
       "version_minor": 0
      },
      "text/plain": [
       "HBox(children=(HTML(value=''), FloatProgress(value=0.0, max=4.0), HTML(value='')))"
      ]
     },
     "metadata": {},
     "output_type": "display_data"
    },
    {
     "name": "stdout",
     "output_type": "stream",
     "text": [
      "\n"
     ]
    }
   ],
   "source": [
    "arch.show_wavelength_progress_bar=True\n",
    "layer_idx=3\n",
    "d_EML_list=np.arange(0,3000,60)\n",
    "loop_data = arch.loop_over_single_layer_prop(\n",
    "     layer_idx=3,layer_prop_list=d_EML_list,layer_prop='d')"
   ]
  },
  {
   "cell_type": "markdown",
   "metadata": {},
   "source": [
    "Swing of the cruve shows the wave property. There are two coupled modes. It's my understanding that the long one is even multiple of light wavelength (770nm). And the short one,   "
   ]
  },
  {
   "cell_type": "code",
   "execution_count": 61,
   "metadata": {
    "scrolled": true
   },
   "outputs": [
    {
     "data": {
      "image/png": "[encoded data removed]",
      "text/plain": [
       "<Figure size 432x288 with 1 Axes>"
      ]
     },
     "metadata": {},
     "output_type": "display_data"
    }
   ],
   "source": [
    "spectrally_integrated_modes = arch.analyze_modes_loop(d_EML_list,loop_data)\n",
    "with plt.style.context('ggplot'):\n",
    "    plt.stackplot(d_EML_list,spectrally_integrated_modes.T,\n",
    "                 labels=spectrally_integrated_modes.columns,alpha=1)\n",
    "    plt.legend()"
   ]
  },
  {
   "cell_type": "code",
   "execution_count": 62,
   "metadata": {},
   "outputs": [],
   "source": [
    "with open('mode distribution.txt','w') as f: \n",
    "    #numpy.set_printoptions(threshold=numpy.nan)\n",
    "    #np.set_printoptions(threshold=np.inf)\n",
    "    pd.set_option('display.max_rows', None)\n",
    "    pd.set_option('display.max_columns', None)  #To prevent omission of data\n",
    "    print(spectrally_integrated_modes, file=f)\n",
    "\n",
    "    # print (d_EML_list) #debugging"
   ]
  },
  {
   "cell_type": "code",
   "execution_count": 34,
   "metadata": {},
   "outputs": [],
   "source": [
    "outcoupling_array=['']*len(d_EML_list)\n",
    "eta_out = np.zeros(len(d_EML_list))\n",
    "PLQYeff = np.zeros(len(d_EML_list))\n",
    "U = np.zeros(len(d_EML_list))\n",
    "F = np.zeros(len(d_EML_list))\n",
    "U_over_F = np.zeros(len(d_EML_list))\n",
    "for d_idx,d_EML in enumerate(d_EML_list):\n",
    "    K_total_array = loop_data['K_total_loop'][d_idx]\n",
    "    K_out_array = loop_data['K_out_loop'][d_idx]\n",
    "    outcoupling_array[d_idx]= arch.calc_outcoupled_fraction_array(\n",
    "        K_total_array,K_out_array)\n",
    "    arch.outcoupling_array = outcoupling_array[d_idx]\n",
    "    lam_avg_eta_out,space_avg_eta_out = arch.spatially_average_outcoupling(return_values=True)\n",
    "    eta_out[d_idx] = lam_avg_eta_out\n",
    "    arch.K_total_array=K_total_array\n",
    "    arch.K_out_array=K_out_array\n",
    "    arch.purcell_factor(tau=1e-6,PLQY=0.85)\n",
    "    PLQYeff[d_idx] = arch.PLQY_effective_avg\n",
    "    U[d_idx]=arch.U_avg\n",
    "    F[d_idx]=arch.F_avg"
   ]
  },
  {
   "cell_type": "code",
   "execution_count": 109,
   "metadata": {},
   "outputs": [
    {
     "name": "stdout",
     "output_type": "stream",
     "text": [
      "        air       sub        wg       spp\n",
      "0  0.107806  0.143728  0.747783  0.000682\n"
     ]
    }
   ],
   "source": [
    "print(spectrally_integrated_modes)"
   ]
  },
  {
   "cell_type": "code",
   "execution_count": 5,
   "metadata": {},
   "outputs": [
    {
     "name": "stdout",
     "output_type": "stream",
     "text": [
      "Varied layer is: TPBi\n"
     ]
    },
    {
     "data": {
      "application/vnd.jupyter.widget-view+json": {
       "model_id": "21038cf7d5594141a1b2644e4bb52bfc",
       "version_major": 2,
       "version_minor": 0
      },
      "text/plain": [
       "HBox(children=(HTML(value=''), FloatProgress(value=0.0, max=10.0), HTML(value='')))"
      ]
     },
     "metadata": {},
     "output_type": "display_data"
    },
    {
     "data": {
      "application/vnd.jupyter.widget-view+json": {
       "model_id": "",
       "version_major": 2,
       "version_minor": 0
      },
      "text/plain": [
       "HBox(children=(HTML(value=''), FloatProgress(value=0.0, max=4.0), HTML(value='')))"
      ]
     },
     "metadata": {},
     "output_type": "display_data"
    },
    {
     "data": {
      "application/vnd.jupyter.widget-view+json": {
       "model_id": "",
       "version_major": 2,
       "version_minor": 0
      },
      "text/plain": [
       "HBox(children=(HTML(value=''), FloatProgress(value=0.0, max=4.0), HTML(value='')))"
      ]
     },
     "metadata": {},
     "output_type": "display_data"
    },
    {
     "data": {
      "application/vnd.jupyter.widget-view+json": {
       "model_id": "",
       "version_major": 2,
       "version_minor": 0
      },
      "text/plain": [
       "HBox(children=(HTML(value=''), FloatProgress(value=0.0, max=4.0), HTML(value='')))"
      ]
     },
     "metadata": {},
     "output_type": "display_data"
    },
    {
     "data": {
      "application/vnd.jupyter.widget-view+json": {
       "model_id": "",
       "version_major": 2,
       "version_minor": 0
      },
      "text/plain": [
       "HBox(children=(HTML(value=''), FloatProgress(value=0.0, max=4.0), HTML(value='')))"
      ]
     },
     "metadata": {},
     "output_type": "display_data"
    },
    {
     "data": {
      "application/vnd.jupyter.widget-view+json": {
       "model_id": "",
       "version_major": 2,
       "version_minor": 0
      },
      "text/plain": [
       "HBox(children=(HTML(value=''), FloatProgress(value=0.0, max=4.0), HTML(value='')))"
      ]
     },
     "metadata": {},
     "output_type": "display_data"
    },
    {
     "data": {
      "application/vnd.jupyter.widget-view+json": {
       "model_id": "",
       "version_major": 2,
       "version_minor": 0
      },
      "text/plain": [
       "HBox(children=(HTML(value=''), FloatProgress(value=0.0, max=4.0), HTML(value='')))"
      ]
     },
     "metadata": {},
     "output_type": "display_data"
    },
    {
     "data": {
      "application/vnd.jupyter.widget-view+json": {
       "model_id": "",
       "version_major": 2,
       "version_minor": 0
      },
      "text/plain": [
       "HBox(children=(HTML(value=''), FloatProgress(value=0.0, max=4.0), HTML(value='')))"
      ]
     },
     "metadata": {},
     "output_type": "display_data"
    },
    {
     "data": {
      "application/vnd.jupyter.widget-view+json": {
       "model_id": "",
       "version_major": 2,
       "version_minor": 0
      },
      "text/plain": [
       "HBox(children=(HTML(value=''), FloatProgress(value=0.0, max=4.0), HTML(value='')))"
      ]
     },
     "metadata": {},
     "output_type": "display_data"
    },
    {
     "data": {
      "application/vnd.jupyter.widget-view+json": {
       "model_id": "",
       "version_major": 2,
       "version_minor": 0
      },
      "text/plain": [
       "HBox(children=(HTML(value=''), FloatProgress(value=0.0, max=4.0), HTML(value='')))"
      ]
     },
     "metadata": {},
     "output_type": "display_data"
    },
    {
     "data": {
      "application/vnd.jupyter.widget-view+json": {
       "model_id": "",
       "version_major": 2,
       "version_minor": 0
      },
      "text/plain": [
       "HBox(children=(HTML(value=''), FloatProgress(value=0.0, max=4.0), HTML(value='')))"
      ]
     },
     "metadata": {},
     "output_type": "display_data"
    },
    {
     "name": "stdout",
     "output_type": "stream",
     "text": [
      "\n"
     ]
    }
   ],
   "source": [
    "d_EML_list=np.arange(0,600,60)\n",
    "loop_data = arch.loop_over_single_layer_prop(\n",
    "     layer_idx=4,layer_prop_list=d_EML_list,layer_prop='d')"
   ]
  },
  {
   "cell_type": "code",
   "execution_count": 6,
   "metadata": {},
   "outputs": [
    {
     "data": {
      "image/png": "[encoded data removed]",
      "text/plain": [
       "<Figure size 432x288 with 1 Axes>"
      ]
     },
     "metadata": {},
     "output_type": "display_data"
    }
   ],
   "source": [
    "spectrally_integrated_modes = arch.analyze_modes_loop(d_EML_list,loop_data)\n",
    "with plt.style.context('ggplot'):\n",
    "    plt.stackplot(d_EML_list,spectrally_integrated_modes.T,\n",
    "                 labels=spectrally_integrated_modes.columns,alpha=1)\n",
    "    plt.legend()"
   ]
  },
  {
   "cell_type": "code",
   "execution_count": 62,
   "metadata": {},
   "outputs": [
    {
     "name": "stdout",
     "output_type": "stream",
     "text": [
      "[   0   60  120  180  240  300  360  420  480  540  600  660  720  780\n",
      "  840  900  960 1020 1080 1140 1200 1260 1320 1380 1440 1500 1560 1620\n",
      " 1680 1740 1800 1860 1920 1980 2040 2100 2160 2220 2280 2340 2400 2460\n",
      " 2520 2580 2640 2700 2760 2820 2880 2940 3000]\n"
     ]
    }
   ],
   "source": [
    "with open('mode distribution.txt','w') as f: \n",
    "    pd.set_option('display.max_columns', None)  #To prevent omission of data\n",
    "    print(spectrally_integrated_modes, file=f)\n",
    "\n",
    "    print (d_EML_list) #debugging"
   ]
  },
  {
   "cell_type": "code",
   "execution_count": null,
   "metadata": {},
   "outputs": [],
   "source": [
    "layer_names = ['Air','SiO2','MAPbI3','SiO2','Air']\n",
    "d = [100,100,100,100,100]\n",
    "doping = [1,1,1,1,1]\n",
    "active_layer = 2\n",
    "# Define wavelengths of interest\n",
    "arch = ThinFilmArchitecture(\n",
    "    d=d,layer_names=layer_names,doping=doping,active_layer=active_layer,\n",
    "    dipole_positions=[0.5],u_step=0.00025,u_stop=2,\n",
    "    tau=1e-6,PLQY=0.85,\n",
    "    vac_wavelengths=np.arange(750,790,10))#\n",
    "arch.load_nk(df_nk=df_nk)\n",
    "arch.init_pds_variables()"
   ]
  },
  {
   "cell_type": "code",
   "execution_count": 432,
   "metadata": {},
   "outputs": [
    {
     "name": "stdout",
     "output_type": "stream",
     "text": [
      "Varied layer is: MAPbI3\n"
     ]
    },
    {
     "data": {
      "application/vnd.jupyter.widget-view+json": {
       "model_id": "cdc6413e970545cc95ddaf9f9cc6629e",
       "version_major": 2,
       "version_minor": 0
      },
      "text/plain": [
       "HBox(children=(HTML(value=''), FloatProgress(value=0.0, max=80.0), HTML(value='')))"
      ]
     },
     "metadata": {},
     "output_type": "display_data"
    },
    {
     "data": {
      "application/vnd.jupyter.widget-view+json": {
       "model_id": "",
       "version_major": 2,
       "version_minor": 0
      },
      "text/plain": [
       "HBox(children=(HTML(value=''), FloatProgress(value=0.0, max=4.0), HTML(value='')))"
      ]
     },
     "metadata": {},
     "output_type": "display_data"
    },
    {
     "name": "stdout",
     "output_type": "stream",
     "text": [
      "\n"
     ]
    }
   ],
   "source": [
    "arch.show_wavelength_progress_bar=True\n",
    "layer_idx=2\n",
    "d_EML_list=np.arange(10,4000,50)\n",
    "loop_data = arch.loop_over_single_layer_prop(\n",
    "     layer_idx=2,layer_prop_list=d_EML_list,layer_prop='d')"
   ]
  },
  {
   "cell_type": "code",
   "execution_count": 433,
   "metadata": {
    "scrolled": true
   },
   "outputs": [
    {
     "ename": "ValueError",
     "evalue": "setting an array element with a sequence.",
     "output_type": "error",
     "traceback": [
      "\u001b[0;31m---------------------------------------------------------------------------\u001b[0m",
      "\u001b[0;31mTypeError\u001b[0m                                 Traceback (most recent call last)",
      "\u001b[0;31mTypeError\u001b[0m: only size-1 arrays can be converted to Python scalars",
      "\nThe above exception was the direct cause of the following exception:\n",
      "\u001b[0;31mValueError\u001b[0m                                Traceback (most recent call last)",
      "\u001b[0;32m~/opt/anaconda3/envs/oled/lib/python3.7/site-packages/pandas/core/series.py\u001b[0m in \u001b[0;36m__setitem__\u001b[0;34m(self, key, value)\u001b[0m\n\u001b[1;32m    999\u001b[0m         \u001b[0;32mtry\u001b[0m\u001b[0;34m:\u001b[0m\u001b[0;34m\u001b[0m\u001b[0;34m\u001b[0m\u001b[0m\n\u001b[0;32m-> 1000\u001b[0;31m             \u001b[0mself\u001b[0m\u001b[0;34m.\u001b[0m\u001b[0m_set_with_engine\u001b[0m\u001b[0;34m(\u001b[0m\u001b[0mkey\u001b[0m\u001b[0;34m,\u001b[0m \u001b[0mvalue\u001b[0m\u001b[0;34m)\u001b[0m\u001b[0;34m\u001b[0m\u001b[0;34m\u001b[0m\u001b[0m\n\u001b[0m\u001b[1;32m   1001\u001b[0m         \u001b[0;32mexcept\u001b[0m \u001b[0;34m(\u001b[0m\u001b[0mKeyError\u001b[0m\u001b[0;34m,\u001b[0m \u001b[0mValueError\u001b[0m\u001b[0;34m)\u001b[0m\u001b[0;34m:\u001b[0m\u001b[0;34m\u001b[0m\u001b[0;34m\u001b[0m\u001b[0m\n",
      "\u001b[0;32m~/opt/anaconda3/envs/oled/lib/python3.7/site-packages/pandas/core/series.py\u001b[0m in \u001b[0;36m_set_with_engine\u001b[0;34m(self, key, value)\u001b[0m\n\u001b[1;32m   1034\u001b[0m         \u001b[0mvalidate_numeric_casting\u001b[0m\u001b[0;34m(\u001b[0m\u001b[0mself\u001b[0m\u001b[0;34m.\u001b[0m\u001b[0mdtype\u001b[0m\u001b[0;34m,\u001b[0m \u001b[0mvalue\u001b[0m\u001b[0;34m)\u001b[0m\u001b[0;34m\u001b[0m\u001b[0;34m\u001b[0m\u001b[0m\n\u001b[0;32m-> 1035\u001b[0;31m         \u001b[0mself\u001b[0m\u001b[0;34m.\u001b[0m\u001b[0m_values\u001b[0m\u001b[0;34m[\u001b[0m\u001b[0mloc\u001b[0m\u001b[0;34m]\u001b[0m \u001b[0;34m=\u001b[0m \u001b[0mvalue\u001b[0m\u001b[0;34m\u001b[0m\u001b[0;34m\u001b[0m\u001b[0m\n\u001b[0m\u001b[1;32m   1036\u001b[0m \u001b[0;34m\u001b[0m\u001b[0m\n",
      "\u001b[0;31mValueError\u001b[0m: setting an array element with a sequence.",
      "\nDuring handling of the above exception, another exception occurred:\n",
      "\u001b[0;31mTypeError\u001b[0m                                 Traceback (most recent call last)",
      "\u001b[0;31mTypeError\u001b[0m: only size-1 arrays can be converted to Python scalars",
      "\nThe above exception was the direct cause of the following exception:\n",
      "\u001b[0;31mValueError\u001b[0m                                Traceback (most recent call last)",
      "\u001b[0;32m<ipython-input-433-b841f604f656>\u001b[0m in \u001b[0;36m<module>\u001b[0;34m\u001b[0m\n\u001b[0;32m----> 1\u001b[0;31m \u001b[0mspectrally_integrated_modes\u001b[0m \u001b[0;34m=\u001b[0m \u001b[0march\u001b[0m\u001b[0;34m.\u001b[0m\u001b[0manalyze_modes_loop\u001b[0m\u001b[0;34m(\u001b[0m\u001b[0md_EML_list\u001b[0m\u001b[0;34m,\u001b[0m\u001b[0mloop_data\u001b[0m\u001b[0;34m)\u001b[0m\u001b[0;34m\u001b[0m\u001b[0;34m\u001b[0m\u001b[0m\n\u001b[0m\u001b[1;32m      2\u001b[0m \u001b[0;32mwith\u001b[0m \u001b[0mplt\u001b[0m\u001b[0;34m.\u001b[0m\u001b[0mstyle\u001b[0m\u001b[0;34m.\u001b[0m\u001b[0mcontext\u001b[0m\u001b[0;34m(\u001b[0m\u001b[0;34m'ggplot'\u001b[0m\u001b[0;34m)\u001b[0m\u001b[0;34m:\u001b[0m\u001b[0;34m\u001b[0m\u001b[0;34m\u001b[0m\u001b[0m\n\u001b[1;32m      3\u001b[0m     plt.stackplot(d_EML_list,spectrally_integrated_modes.T,\n\u001b[1;32m      4\u001b[0m                  labels=spectrally_integrated_modes.columns,alpha=1)\n\u001b[1;32m      5\u001b[0m     \u001b[0mplt\u001b[0m\u001b[0;34m.\u001b[0m\u001b[0mlegend\u001b[0m\u001b[0;34m(\u001b[0m\u001b[0;34m)\u001b[0m\u001b[0;34m\u001b[0m\u001b[0;34m\u001b[0m\u001b[0m\n",
      "\u001b[0;32m~/Desktop/oledpy-master/oledpy/dipole_emission.py\u001b[0m in \u001b[0;36manalyze_modes_loop\u001b[0;34m(self, loop_variable_list, loop_data)\u001b[0m\n\u001b[1;32m   1051\u001b[0m         \u001b[0;32mfor\u001b[0m \u001b[0midx\u001b[0m \u001b[0;32min\u001b[0m \u001b[0mrange\u001b[0m\u001b[0;34m(\u001b[0m\u001b[0;36m0\u001b[0m\u001b[0;34m,\u001b[0m\u001b[0mlen\u001b[0m\u001b[0;34m(\u001b[0m\u001b[0mloop_variable_list\u001b[0m\u001b[0;34m)\u001b[0m\u001b[0;34m)\u001b[0m\u001b[0;34m:\u001b[0m\u001b[0;34m\u001b[0m\u001b[0;34m\u001b[0m\u001b[0m\n\u001b[1;32m   1052\u001b[0m             spectrally_integrated_modes.iloc[idx] = self.analyze_modes(\n\u001b[0;32m-> 1053\u001b[0;31m                 loop_data['K_total_loop'][idx],loop_data['K_out_loop'][idx])\n\u001b[0m\u001b[1;32m   1054\u001b[0m         \u001b[0;31m# Normalize to 1\u001b[0m\u001b[0;34m\u001b[0m\u001b[0;34m\u001b[0m\u001b[0;34m\u001b[0m\u001b[0m\n\u001b[1;32m   1055\u001b[0m         spectrally_integrated_modes=spectrally_integrated_modes.div(\n",
      "\u001b[0;32m~/Desktop/oledpy-master/oledpy/dipole_emission.py\u001b[0m in \u001b[0;36manalyze_modes\u001b[0;34m(self, K_total, K_out, K_abs)\u001b[0m\n\u001b[1;32m   1036\u001b[0m                 modes[mode][lam_idx] = integrate(\n\u001b[1;32m   1037\u001b[0m                     \u001b[0;36m2\u001b[0m\u001b[0;34m*\u001b[0m\u001b[0mself\u001b[0m\u001b[0;34m.\u001b[0m\u001b[0mu\u001b[0m\u001b[0;34m[\u001b[0m\u001b[0mrange\u001b[0m\u001b[0;34m]\u001b[0m\u001b[0;34m*\u001b[0m\u001b[0mK_total_spatial_avg\u001b[0m\u001b[0;34m[\u001b[0m\u001b[0mlam_idx\u001b[0m\u001b[0;34m,\u001b[0m\u001b[0mrange\u001b[0m\u001b[0;34m]\u001b[0m\u001b[0;34m,\u001b[0m\u001b[0;34m\u001b[0m\u001b[0;34m\u001b[0m\u001b[0m\n\u001b[0;32m-> 1038\u001b[0;31m                     self.u[range]).real\n\u001b[0m\u001b[1;32m   1039\u001b[0m             \u001b[0;31m# absorption calculation not yet implemented\u001b[0m\u001b[0;34m\u001b[0m\u001b[0;34m\u001b[0m\u001b[0;34m\u001b[0m\u001b[0m\n\u001b[1;32m   1040\u001b[0m             \u001b[0;31m#modes['abs'][lam_idx] = integrate(\u001b[0m\u001b[0;34m\u001b[0m\u001b[0;34m\u001b[0m\u001b[0;34m\u001b[0m\u001b[0m\n",
      "\u001b[0;32m~/opt/anaconda3/envs/oled/lib/python3.7/site-packages/pandas/core/series.py\u001b[0m in \u001b[0;36m__setitem__\u001b[0;34m(self, key, value)\u001b[0m\n\u001b[1;32m   1006\u001b[0m             \u001b[0;32melse\u001b[0m\u001b[0;34m:\u001b[0m\u001b[0;34m\u001b[0m\u001b[0;34m\u001b[0m\u001b[0m\n\u001b[1;32m   1007\u001b[0m                 \u001b[0;31m# GH#12862 adding an new key to the Series\u001b[0m\u001b[0;34m\u001b[0m\u001b[0;34m\u001b[0m\u001b[0;34m\u001b[0m\u001b[0m\n\u001b[0;32m-> 1008\u001b[0;31m                 \u001b[0mself\u001b[0m\u001b[0;34m.\u001b[0m\u001b[0mloc\u001b[0m\u001b[0;34m[\u001b[0m\u001b[0mkey\u001b[0m\u001b[0;34m]\u001b[0m \u001b[0;34m=\u001b[0m \u001b[0mvalue\u001b[0m\u001b[0;34m\u001b[0m\u001b[0;34m\u001b[0m\u001b[0m\n\u001b[0m\u001b[1;32m   1009\u001b[0m \u001b[0;34m\u001b[0m\u001b[0m\n\u001b[1;32m   1010\u001b[0m         \u001b[0;32mexcept\u001b[0m \u001b[0mTypeError\u001b[0m \u001b[0;32mas\u001b[0m \u001b[0merr\u001b[0m\u001b[0;34m:\u001b[0m\u001b[0;34m\u001b[0m\u001b[0;34m\u001b[0m\u001b[0m\n",
      "\u001b[0;32m~/opt/anaconda3/envs/oled/lib/python3.7/site-packages/pandas/core/indexing.py\u001b[0m in \u001b[0;36m__setitem__\u001b[0;34m(self, key, value)\u001b[0m\n\u001b[1;32m    668\u001b[0m \u001b[0;34m\u001b[0m\u001b[0m\n\u001b[1;32m    669\u001b[0m         \u001b[0miloc\u001b[0m \u001b[0;34m=\u001b[0m \u001b[0mself\u001b[0m \u001b[0;32mif\u001b[0m \u001b[0mself\u001b[0m\u001b[0;34m.\u001b[0m\u001b[0mname\u001b[0m \u001b[0;34m==\u001b[0m \u001b[0;34m\"iloc\"\u001b[0m \u001b[0;32melse\u001b[0m \u001b[0mself\u001b[0m\u001b[0;34m.\u001b[0m\u001b[0mobj\u001b[0m\u001b[0;34m.\u001b[0m\u001b[0miloc\u001b[0m\u001b[0;34m\u001b[0m\u001b[0;34m\u001b[0m\u001b[0m\n\u001b[0;32m--> 670\u001b[0;31m         \u001b[0miloc\u001b[0m\u001b[0;34m.\u001b[0m\u001b[0m_setitem_with_indexer\u001b[0m\u001b[0;34m(\u001b[0m\u001b[0mindexer\u001b[0m\u001b[0;34m,\u001b[0m \u001b[0mvalue\u001b[0m\u001b[0;34m)\u001b[0m\u001b[0;34m\u001b[0m\u001b[0;34m\u001b[0m\u001b[0m\n\u001b[0m\u001b[1;32m    671\u001b[0m \u001b[0;34m\u001b[0m\u001b[0m\n\u001b[1;32m    672\u001b[0m     \u001b[0;32mdef\u001b[0m \u001b[0m_validate_key\u001b[0m\u001b[0;34m(\u001b[0m\u001b[0mself\u001b[0m\u001b[0;34m,\u001b[0m \u001b[0mkey\u001b[0m\u001b[0;34m,\u001b[0m \u001b[0maxis\u001b[0m\u001b[0;34m:\u001b[0m \u001b[0mint\u001b[0m\u001b[0;34m)\u001b[0m\u001b[0;34m:\u001b[0m\u001b[0;34m\u001b[0m\u001b[0;34m\u001b[0m\u001b[0m\n",
      "\u001b[0;32m~/opt/anaconda3/envs/oled/lib/python3.7/site-packages/pandas/core/indexing.py\u001b[0m in \u001b[0;36m_setitem_with_indexer\u001b[0;34m(self, indexer, value)\u001b[0m\n\u001b[1;32m   1800\u001b[0m             \u001b[0;31m# actually do the set\u001b[0m\u001b[0;34m\u001b[0m\u001b[0;34m\u001b[0m\u001b[0;34m\u001b[0m\u001b[0m\n\u001b[1;32m   1801\u001b[0m             \u001b[0mself\u001b[0m\u001b[0;34m.\u001b[0m\u001b[0mobj\u001b[0m\u001b[0;34m.\u001b[0m\u001b[0m_consolidate_inplace\u001b[0m\u001b[0;34m(\u001b[0m\u001b[0;34m)\u001b[0m\u001b[0;34m\u001b[0m\u001b[0;34m\u001b[0m\u001b[0m\n\u001b[0;32m-> 1802\u001b[0;31m             \u001b[0mself\u001b[0m\u001b[0;34m.\u001b[0m\u001b[0mobj\u001b[0m\u001b[0;34m.\u001b[0m\u001b[0m_mgr\u001b[0m \u001b[0;34m=\u001b[0m \u001b[0mself\u001b[0m\u001b[0;34m.\u001b[0m\u001b[0mobj\u001b[0m\u001b[0;34m.\u001b[0m\u001b[0m_mgr\u001b[0m\u001b[0;34m.\u001b[0m\u001b[0msetitem\u001b[0m\u001b[0;34m(\u001b[0m\u001b[0mindexer\u001b[0m\u001b[0;34m=\u001b[0m\u001b[0mindexer\u001b[0m\u001b[0;34m,\u001b[0m \u001b[0mvalue\u001b[0m\u001b[0;34m=\u001b[0m\u001b[0mvalue\u001b[0m\u001b[0;34m)\u001b[0m\u001b[0;34m\u001b[0m\u001b[0;34m\u001b[0m\u001b[0m\n\u001b[0m\u001b[1;32m   1803\u001b[0m             \u001b[0mself\u001b[0m\u001b[0;34m.\u001b[0m\u001b[0mobj\u001b[0m\u001b[0;34m.\u001b[0m\u001b[0m_maybe_update_cacher\u001b[0m\u001b[0;34m(\u001b[0m\u001b[0mclear\u001b[0m\u001b[0;34m=\u001b[0m\u001b[0;32mTrue\u001b[0m\u001b[0;34m)\u001b[0m\u001b[0;34m\u001b[0m\u001b[0;34m\u001b[0m\u001b[0m\n\u001b[1;32m   1804\u001b[0m \u001b[0;34m\u001b[0m\u001b[0m\n",
      "\u001b[0;32m~/opt/anaconda3/envs/oled/lib/python3.7/site-packages/pandas/core/internals/managers.py\u001b[0m in \u001b[0;36msetitem\u001b[0;34m(self, indexer, value)\u001b[0m\n\u001b[1;32m    532\u001b[0m \u001b[0;34m\u001b[0m\u001b[0m\n\u001b[1;32m    533\u001b[0m     \u001b[0;32mdef\u001b[0m \u001b[0msetitem\u001b[0m\u001b[0;34m(\u001b[0m\u001b[0mself\u001b[0m\u001b[0;34m,\u001b[0m \u001b[0mindexer\u001b[0m\u001b[0;34m,\u001b[0m \u001b[0mvalue\u001b[0m\u001b[0;34m)\u001b[0m \u001b[0;34m->\u001b[0m \u001b[0;34m\"BlockManager\"\u001b[0m\u001b[0;34m:\u001b[0m\u001b[0;34m\u001b[0m\u001b[0;34m\u001b[0m\u001b[0m\n\u001b[0;32m--> 534\u001b[0;31m         \u001b[0;32mreturn\u001b[0m \u001b[0mself\u001b[0m\u001b[0;34m.\u001b[0m\u001b[0mapply\u001b[0m\u001b[0;34m(\u001b[0m\u001b[0;34m\"setitem\"\u001b[0m\u001b[0;34m,\u001b[0m \u001b[0mindexer\u001b[0m\u001b[0;34m=\u001b[0m\u001b[0mindexer\u001b[0m\u001b[0;34m,\u001b[0m \u001b[0mvalue\u001b[0m\u001b[0;34m=\u001b[0m\u001b[0mvalue\u001b[0m\u001b[0;34m)\u001b[0m\u001b[0;34m\u001b[0m\u001b[0;34m\u001b[0m\u001b[0m\n\u001b[0m\u001b[1;32m    535\u001b[0m \u001b[0;34m\u001b[0m\u001b[0m\n\u001b[1;32m    536\u001b[0m     def putmask(\n",
      "\u001b[0;32m~/opt/anaconda3/envs/oled/lib/python3.7/site-packages/pandas/core/internals/managers.py\u001b[0m in \u001b[0;36mapply\u001b[0;34m(self, f, align_keys, **kwargs)\u001b[0m\n\u001b[1;32m    404\u001b[0m                 \u001b[0mapplied\u001b[0m \u001b[0;34m=\u001b[0m \u001b[0mb\u001b[0m\u001b[0;34m.\u001b[0m\u001b[0mapply\u001b[0m\u001b[0;34m(\u001b[0m\u001b[0mf\u001b[0m\u001b[0;34m,\u001b[0m \u001b[0;34m**\u001b[0m\u001b[0mkwargs\u001b[0m\u001b[0;34m)\u001b[0m\u001b[0;34m\u001b[0m\u001b[0;34m\u001b[0m\u001b[0m\n\u001b[1;32m    405\u001b[0m             \u001b[0;32melse\u001b[0m\u001b[0;34m:\u001b[0m\u001b[0;34m\u001b[0m\u001b[0;34m\u001b[0m\u001b[0m\n\u001b[0;32m--> 406\u001b[0;31m                 \u001b[0mapplied\u001b[0m \u001b[0;34m=\u001b[0m \u001b[0mgetattr\u001b[0m\u001b[0;34m(\u001b[0m\u001b[0mb\u001b[0m\u001b[0;34m,\u001b[0m \u001b[0mf\u001b[0m\u001b[0;34m)\u001b[0m\u001b[0;34m(\u001b[0m\u001b[0;34m**\u001b[0m\u001b[0mkwargs\u001b[0m\u001b[0;34m)\u001b[0m\u001b[0;34m\u001b[0m\u001b[0;34m\u001b[0m\u001b[0m\n\u001b[0m\u001b[1;32m    407\u001b[0m             \u001b[0mresult_blocks\u001b[0m \u001b[0;34m=\u001b[0m \u001b[0m_extend_blocks\u001b[0m\u001b[0;34m(\u001b[0m\u001b[0mapplied\u001b[0m\u001b[0;34m,\u001b[0m \u001b[0mresult_blocks\u001b[0m\u001b[0;34m)\u001b[0m\u001b[0;34m\u001b[0m\u001b[0;34m\u001b[0m\u001b[0m\n\u001b[1;32m    408\u001b[0m \u001b[0;34m\u001b[0m\u001b[0m\n",
      "\u001b[0;32m~/opt/anaconda3/envs/oled/lib/python3.7/site-packages/pandas/core/internals/blocks.py\u001b[0m in \u001b[0;36msetitem\u001b[0;34m(self, indexer, value)\u001b[0m\n\u001b[1;32m    889\u001b[0m         \u001b[0;31m# set\u001b[0m\u001b[0;34m\u001b[0m\u001b[0;34m\u001b[0m\u001b[0;34m\u001b[0m\u001b[0m\n\u001b[1;32m    890\u001b[0m         \u001b[0;32melse\u001b[0m\u001b[0;34m:\u001b[0m\u001b[0;34m\u001b[0m\u001b[0;34m\u001b[0m\u001b[0m\n\u001b[0;32m--> 891\u001b[0;31m             \u001b[0mvalues\u001b[0m\u001b[0;34m[\u001b[0m\u001b[0mindexer\u001b[0m\u001b[0;34m]\u001b[0m \u001b[0;34m=\u001b[0m \u001b[0mvalue\u001b[0m\u001b[0;34m\u001b[0m\u001b[0;34m\u001b[0m\u001b[0m\n\u001b[0m\u001b[1;32m    892\u001b[0m \u001b[0;34m\u001b[0m\u001b[0m\n\u001b[1;32m    893\u001b[0m         \u001b[0;32mif\u001b[0m \u001b[0mtranspose\u001b[0m\u001b[0;34m:\u001b[0m\u001b[0;34m\u001b[0m\u001b[0;34m\u001b[0m\u001b[0m\n",
      "\u001b[0;31mValueError\u001b[0m: setting an array element with a sequence."
     ]
    }
   ],
   "source": [
    "ptint()"
   ]
  },
  {
   "cell_type": "code",
   "execution_count": 312,
   "metadata": {},
   "outputs": [],
   "source": [
    "layer_names = ['SiO2','ITO','polyTPD','MAPbI3','TPBi','Al','Air']\n",
    "d = [0,100,35,30,40,100,0]\n",
    "doping = [1,1,1,1,1,1,1]"
   ]
  },
  {
   "cell_type": "code",
   "execution_count": 313,
   "metadata": {},
   "outputs": [
    {
     "name": "stdout",
     "output_type": "stream",
     "text": [
      "Doping was not defined. Assuming no doped layers\n",
      "Layer names not yet set.\n",
      "RZ not provided. Flat RZ will be assumed\n"
     ]
    }
   ],
   "source": [
    "wavelengths = np.arange(480,670,5)# Define wavelengths of interest\n",
    "dipole_positions = [0.9] # dipole planes located near EML/ETL interface\n",
    "MAPbI3_PL = np.genfromtxt(os.path.join(\"Reference Data\",'MAPbI3_intrinsic_pl.csv'),skip_header=1,delimiter=',')\n",
    "PL_interp = np.interp(wavelengths,MAPbI3_PL[:,0],MAPbI3_PL[:,1])\n",
    "architecture = ThinFilmArchitecture(\n",
    "    #layer_dict_list = layers,\n",
    "    dipole_positions = dipole_positions,\n",
    "    tau=1e-6,PLQY=0.95, # Intrinsic exciton lifetime and PL quantum yield of Ir(ppy)3\n",
    "    vac_wavelengths=wavelengths,pl_spectrum=PL_interp)\n",
    "architecture.load_nk(df_nk=df_nk)\n",
    "architecture.run_attribute_checks()"
   ]
  },
  {
   "cell_type": "code",
   "execution_count": null,
   "metadata": {},
   "outputs": [],
   "source": []
  },
  {
   "cell_type": "code",
   "execution_count": 299,
   "metadata": {},
   "outputs": [
    {
     "ename": "AttributeError",
     "evalue": "'ThinFilmArchitecture' object has no attribute 'I_EL'",
     "output_type": "error",
     "traceback": [
      "\u001b[0;31m---------------------------------------------------------------------------\u001b[0m",
      "\u001b[0;31mAttributeError\u001b[0m                            Traceback (most recent call last)",
      "\u001b[0;32m<ipython-input-299-57d014de5413>\u001b[0m in \u001b[0;36m<module>\u001b[0;34m\u001b[0m\n\u001b[1;32m      1\u001b[0m \u001b[0;32mfrom\u001b[0m \u001b[0moledpy\u001b[0m\u001b[0;34m.\u001b[0m\u001b[0mdipole_emission\u001b[0m \u001b[0;32mimport\u001b[0m \u001b[0memission_polar_plot\u001b[0m\u001b[0;34m\u001b[0m\u001b[0;34m\u001b[0m\u001b[0m\n\u001b[1;32m      2\u001b[0m \u001b[0;32mwith\u001b[0m \u001b[0mplt\u001b[0m\u001b[0;34m.\u001b[0m\u001b[0mstyle\u001b[0m\u001b[0;34m.\u001b[0m\u001b[0mcontext\u001b[0m\u001b[0;34m(\u001b[0m\u001b[0;34m(\u001b[0m\u001b[0;34m'ggplot'\u001b[0m\u001b[0;34m)\u001b[0m\u001b[0;34m)\u001b[0m\u001b[0;34m:\u001b[0m\u001b[0;34m\u001b[0m\u001b[0;34m\u001b[0m\u001b[0m\n\u001b[0;32m----> 3\u001b[0;31m     \u001b[0mintensity\u001b[0m\u001b[0;34m,\u001b[0m\u001b[0mradiance\u001b[0m\u001b[0;34m,\u001b[0m\u001b[0mluminance\u001b[0m \u001b[0;34m=\u001b[0m \u001b[0march\u001b[0m\u001b[0;34m.\u001b[0m\u001b[0mcalc_angular_emission_profile\u001b[0m\u001b[0;34m(\u001b[0m\u001b[0;34m)\u001b[0m\u001b[0;34m\u001b[0m\u001b[0;34m\u001b[0m\u001b[0m\n\u001b[0m\u001b[1;32m      4\u001b[0m     fig,ax,handle,lambertian_handle = emission_polar_plot(\n\u001b[1;32m      5\u001b[0m         arch.thetas,intensity,leg_label='Simulated',theta_range=[0,90],theta_grid_step=15)\n",
      "\u001b[0;32m~/Desktop/oledpy-master/oledpy/dipole_emission.py\u001b[0m in \u001b[0;36mcalc_angular_emission_profile\u001b[0;34m(self)\u001b[0m\n\u001b[1;32m    971\u001b[0m                /self.F).reshape([-1,1]) * self.P_out\n\u001b[1;32m    972\u001b[0m     \u001b[0;32mdef\u001b[0m \u001b[0mcalc_angular_emission_profile\u001b[0m\u001b[0;34m(\u001b[0m\u001b[0mself\u001b[0m\u001b[0;34m)\u001b[0m\u001b[0;34m:\u001b[0m\u001b[0;34m\u001b[0m\u001b[0;34m\u001b[0m\u001b[0m\n\u001b[0;32m--> 973\u001b[0;31m         \u001b[0mintensity\u001b[0m \u001b[0;34m=\u001b[0m \u001b[0mintegrate\u001b[0m\u001b[0;34m(\u001b[0m\u001b[0mself\u001b[0m\u001b[0;34m.\u001b[0m\u001b[0mI_EL\u001b[0m\u001b[0;34m,\u001b[0m\u001b[0mself\u001b[0m\u001b[0;34m.\u001b[0m\u001b[0mvac_wavelengths\u001b[0m\u001b[0;34m,\u001b[0m\u001b[0maxis\u001b[0m\u001b[0;34m=\u001b[0m\u001b[0;36m0\u001b[0m\u001b[0;34m,\u001b[0m\u001b[0msqueeze_axis\u001b[0m\u001b[0;34m=\u001b[0m\u001b[0;36m0\u001b[0m\u001b[0;34m)\u001b[0m\u001b[0;34m\u001b[0m\u001b[0;34m\u001b[0m\u001b[0m\n\u001b[0m\u001b[1;32m    974\u001b[0m         \u001b[0;31m# Furno 2012, Eqn. A20\u001b[0m\u001b[0;34m\u001b[0m\u001b[0;34m\u001b[0m\u001b[0;34m\u001b[0m\u001b[0m\n\u001b[1;32m    975\u001b[0m         radiance = integrate(self.I_EL/np.cos(self.thetas*np.pi/180),\n",
      "\u001b[0;31mAttributeError\u001b[0m: 'ThinFilmArchitecture' object has no attribute 'I_EL'"
     ]
    }
   ],
   "source": [
    "from oledpy.dipole_emission import emission_polar_plot\n",
    "with plt.style.context(('ggplot')):\n",
    "    intensity,radiance,luminance = arch.calc_angular_emission_profile()\n",
    "    fig,ax,handle,lambertian_handle = emission_polar_plot(\n",
    "        arch.thetas,intensity,leg_label='Simulated',theta_range=[0,90],theta_grid_step=15)\n",
    "    leg=ax.legend(bbox_to_anchor=(1.3,1.2))\n",
    "    ax.set_ylim(-0.05,1.05)\n",
    "    ax.grid(color=0.7*np.ones((3,)),linewidth=0.5)\n",
    "    [ax.spines[i].set_linewidth(0.8) for i in ax.spines] #adjust border width\n",
    "    plt.savefig('test_polar.png',dpi=300,bbox_inches='tight',bbox_extra_artists=[leg],\n",
    "               transparent=True)\n",
    "    plt.show()"
   ]
  },
  {
   "cell_type": "code",
   "execution_count": 300,
   "metadata": {},
   "outputs": [
    {
     "name": "stdout",
     "output_type": "stream",
     "text": [
      "Flat RZ:\n",
      "n_OC = 4.3%\n",
      "Exponential RZ, HTL side:\n",
      "n_OC = 4.3%\n",
      "Exponential RZ, ETL side:\n",
      "n_OC = 4.3%\n"
     ]
    },
    {
     "data": {
      "image/png": "[encoded data removed]",
      "text/plain": [
       "<Figure size 432x288 with 1 Axes>"
      ]
     },
     "metadata": {
      "needs_background": "light"
     },
     "output_type": "display_data"
    }
   ],
   "source": [
    "# Compare outcoupling efficiency for different RZ shapes\n",
    "arch2.set_RZ(np.ones(arch2.dipole_positions.shape))\n",
    "# Or manually:\n",
    "# arch2.RZ = np.ones(arch2.dipole_positions.shape)\n",
    "# arch2.RZ_weights = arch2.RZ / np.trapz(arch2.RZ,arch2.dipole_positions)\n",
    "arch2.spatially_average_outcoupling()\n",
    "print(\"Flat RZ:\")\n",
    "print('n_OC = ' +\n",
    "      '{:.1f}'.format(arch2.spatially_averaged_eta_out*100)+'%')\n",
    "plt.plot(arch2.dipole_positions,arch2.RZ)\n",
    "\n",
    "arch2.set_RZ(np.ones(arch2.dipole_positions.shape)\n",
    "                    * np.exp(-arch2.dipole_positions/0.5))\n",
    "# arch2.RZ = (np.ones(arch2.dipole_positions.shape)\n",
    "#                     * np.exp(-arch2.dipole_positions/0.5))\n",
    "# arch2.RZ_weights = arch2.RZ / np.trapz(arch2.RZ,arch2.dipole_positions)\n",
    "\n",
    "arch2.spatially_average_outcoupling()\n",
    "print(\"Exponential RZ, HTL side:\")\n",
    "print('n_OC = ' +\n",
    "      '{:.1f}'.format(arch2.spatially_averaged_eta_out*100)+'%')\n",
    "plt.plot(arch2.dipole_positions,arch2.RZ)\n",
    "\n",
    "arch2.set_RZ(np.ones(arch2.dipole_positions.shape)\n",
    "                    * np.exp(-(1-arch2.dipole_positions)/0.5))\n",
    "# arch2.RZ = (np.ones(arch2.dipole_positions.shape)\n",
    "#                     * np.exp(-(1-arch2.dipole_positions)/0.5))\n",
    "# arch2.RZ_weights = arch2.RZ / np.trapz(arch2.RZ,arch2.dipole_positions)\n",
    "\n",
    "arch2.spatially_average_outcoupling()\n",
    "print(\"Exponential RZ, ETL side:\")\n",
    "print('n_OC = ' +\n",
    "      '{:.1f}'.format(arch2.spatially_averaged_eta_out*100)+'%')\n",
    "plt.plot(arch2.dipole_positions,arch2.RZ)\n",
    "plt.xlabel(\"Distance from HTL interface (nm)\")\n",
    "plt.ylabel(\"Norm. Exciton Density\")\n",
    "plt.show()"
   ]
  },
  {
   "cell_type": "code",
   "execution_count": 6,
   "metadata": {},
   "outputs": [
    {
     "name": "stdout",
     "output_type": "stream",
     "text": [
      "Active layer is: MAPbI3. \n",
      " To change, call arch.set_active_layer(active_layer) Indexing starts at 0.\n",
      "RZ not provided. Flat RZ will be assumed\n",
      "No PL spectrum provided. Flat (white) emission will be assumed\n",
      "Provided imaginary active layer index. Discarding imaginary part.\n"
     ]
    }
   ],
   "source": [
    "layer_names = ['SiO2','ITO','polyTPD','MAPbI3',\n",
    "               'TPBi','Al','Air']\n",
    "d = [0,150,25,10,40,100,0]\n",
    "doping = [1,1,1,1,1,1,1]\n",
    "active_layer = 3\n",
    "# Define wavelengths of interest\n",
    "arch = ThinFilmArchitecture(\n",
    "    d=d,layer_names=layer_names,doping=doping,active_layer=active_layer,\n",
    "    dipole_positions=[0.94],u_step=0.00025,u_stop=2,\n",
    "    tau=1e-6,PLQY=0.85,\n",
    "    vac_wavelengths=np.arange(750,790,10))#\n",
    "arch.load_nk(df_nk=df_nk)\n",
    "arch.init_pds_variables()"
   ]
  },
  {
   "cell_type": "code",
   "execution_count": 7,
   "metadata": {},
   "outputs": [],
   "source": []
  },
  {
   "cell_type": "code",
   "execution_count": 11,
   "metadata": {},
   "outputs": [
    {
     "name": "stdout",
     "output_type": "stream",
     "text": [
      "Dipole positions changed. Remember to update RZ\n",
      "RZ and dipole_positions not same length! Flat RZ will be assumed\n"
     ]
    }
   ],
   "source": [
    "arch.set_dipole_positions(np.arange(0,1,0.2)) "
   ]
  },
  {
   "cell_type": "code",
   "execution_count": 13,
   "metadata": {},
   "outputs": [
    {
     "ename": "NameError",
     "evalue": "name 'dipole_positions' is not defined",
     "output_type": "error",
     "traceback": [
      "\u001b[0;31m---------------------------------------------------------------------------\u001b[0m",
      "\u001b[0;31mNameError\u001b[0m                                 Traceback (most recent call last)",
      "\u001b[0;32m<ipython-input-13-f95a819e2fbd>\u001b[0m in \u001b[0;36m<module>\u001b[0;34m\u001b[0m\n\u001b[1;32m      1\u001b[0m loop_data = arch.loop_over_single_layer_prop(\n\u001b[0;32m----> 2\u001b[0;31m      layer_idx=3,layer_prop_list=dipole_positions,layer_prop='d')\n\u001b[0m",
      "\u001b[0;31mNameError\u001b[0m: name 'dipole_positions' is not defined"
     ]
    }
   ],
   "source": [
    "loop_data = arch.loop_over_single_layer_prop(\n",
    "     layer_idx=3,layer_prop_list=dipole_positions,layer_prop='d')"
   ]
  },
  {
   "cell_type": "code",
   "execution_count": 48,
   "metadata": {},
   "outputs": [
    {
     "data": {
      "image/png": "[encoded data removed]",
      "text/plain": [
       "<Figure size 432x288 with 1 Axes>"
      ]
     },
     "metadata": {},
     "output_type": "display_data"
    }
   ],
   "source": [
    "spectrally_integrated_modes = arch.analyze_modes_loop(set_dipole_positions,loop_data)\n",
    "with plt.style.context('ggplot'):\n",
    "    plt.stackplot(set_dipole_positions,spectrally_integrated_modes.T,\n",
    "                 labels=spectrally_integrated_modes.columns,alpha=1)\n",
    "    plt.legend()"
   ]
  },
  {
   "cell_type": "code",
   "execution_count": 17,
   "metadata": {},
   "outputs": [],
   "source": [
    "d_EML_list=np.arange(0,600,60)\n",
    "loop_data = arch.loop_over_single_layer_prop(\n",
    "     layer_idx=3,layer_prop_list=d_EML_list,layer_prop='d')"
   ]
  },
  {
   "cell_type": "code",
   "execution_count": 18,
   "metadata": {},
   "outputs": [],
   "source": [
    "layers = [\n",
    "     {'name':'SiO2'      ,'d':0  ,'doping':1,'coherent':0},\n",
    "     {'name':'ITO'       ,'d':100,'doping':1,'coherent':1},\n",
    "     {'name':'TCTA'      ,'d':35 ,'doping':1,'coherent':1},\n",
    "     {'name':'CBP-Irppy','d':30 ,'doping':[0.92,0.08],'coherent':1,'active':1},\n",
    "     {'name':'TPBi'      ,'d':40 ,'doping':1,'coherent':1},\n",
    "     {'name':'Al'        ,'d':100,'doping':1,'coherent':1},\n",
    "     {'name':'Air'       ,'d':0  ,'doping':1,'coherent':0},\n",
    "]"
   ]
  },
  {
   "cell_type": "code",
   "execution_count": 19,
   "metadata": {},
   "outputs": [
    {
     "name": "stdout",
     "output_type": "stream",
     "text": [
      "Active layer is: CBP-Irppy. \n",
      " To change, call arch.set_active_layer(active_layer) Indexing starts at 0.\n",
      "RZ not provided. Flat RZ will be assumed\n"
     ]
    }
   ],
   "source": [
    "wavelengths = np.arange(480,670,5)# Define wavelengths of interest\n",
    "dipole_positions = [0.9] # dipole planes located near EML/ETL interface\n",
    "irppy3_PL = np.genfromtxt(os.path.join(\"Reference Data\",'irppy3_intrinsic_pl.csv'),skip_header=1,delimiter=',')\n",
    "PL_interp = np.interp(wavelengths,irppy3_PL[:,0],irppy3_PL[:,1])\n",
    "architecture = ThinFilmArchitecture(\n",
    "    layer_dict_list = layers,\n",
    "    dipole_positions = dipole_positions,\n",
    "    tau=1e-6,PLQY=0.94, # Intrinsic exciton lifetime and PL quantum yield of Ir(ppy)3\n",
    "    vac_wavelengths=wavelengths,pl_spectrum=PL_interp)\n",
    "architecture.load_nk(df_nk=df_nk)\n",
    "architecture.run_attribute_checks()"
   ]
  },
  {
   "cell_type": "code",
   "execution_count": null,
   "metadata": {},
   "outputs": [],
   "source": []
  }
 ],
 "metadata": {
  "kernelspec": {
   "display_name": "Python 3",
   "language": "python",
   "name": "python3"
  },
  "language_info": {
   "codemirror_mode": {
    "name": "ipython",
    "version": 3
   },
   "file_extension": ".py",
   "mimetype": "text/x-python",
   "name": "python",
   "nbconvert_exporter": "python",
   "pygments_lexer": "ipython3",
   "version": "3.7.9"
  }
 },
 "nbformat": 4,
 "nbformat_minor": 4
}
